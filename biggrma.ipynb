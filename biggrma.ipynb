{
 "cells": [
  {
   "cell_type": "code",
   "execution_count": 53,
   "metadata": {},
   "outputs": [
    {
     "name": "stdout",
     "output_type": "stream",
     "text": [
      "is mpps available? True\n",
      "mps\n"
     ]
    }
   ],
   "source": [
    "import torch\n",
    "import torch.nn as nn\n",
    "from torch.nn import functional as F\n",
    "\n",
    "device = torch.device(\"cuda:0\" if torch.cuda.is_available() else \"mps\")\n",
    "print(\"is mpps available?\", torch.backends.mps.is_available())\n",
    "print(device)\n",
    "# 超参数\n",
    "block_size = 8  # 块大小用于 整数的长度\n",
    "batch_size = 4  # 批处理用于并行运行的数\n",
    "max_iters = 10000\n",
    "learning_rate = 3e-4\n",
    "eval_iters = 250"
   ]
  },
  {
   "cell_type": "code",
   "execution_count": 54,
   "metadata": {},
   "outputs": [
    {
     "name": "stdout",
     "output_type": "stream",
     "text": [
      "['\\n', ' ', '!', '\"', '&', \"'\", '(', ')', '*', ',', '-', '.', '0', '1', '2', '3', '4', '5', '6', '7', '8', '9', ':', ';', '?', 'A', 'B', 'C', 'D', 'E', 'F', 'G', 'H', 'I', 'J', 'K', 'L', 'M', 'N', 'O', 'P', 'Q', 'R', 'S', 'T', 'U', 'V', 'W', 'X', 'Y', 'Z', '[', ']', '_', 'a', 'b', 'c', 'd', 'e', 'f', 'g', 'h', 'i', 'j', 'k', 'l', 'm', 'n', 'o', 'p', 'q', 'r', 's', 't', 'u', 'v', 'w', 'x', 'y', 'z', '\\ufeff']\n"
     ]
    }
   ],
   "source": [
    "with open(\"wizard_of_oz.txt\", \"r\", encoding=\"utf-8\") as f:\n",
    "    text = f.read()\n",
    "# 读取文本中的字符\n",
    "chars = sorted(set(text))\n",
    "vocab_size = len(chars)\n",
    "print(chars)"
   ]
  },
  {
   "cell_type": "markdown",
   "metadata": {},
   "source": [
    "# tokenizer 分词器  \n",
    "由编码器和解码器组成\n",
    "编码器将上面的数组每个元素转化为整数,解码器与之相反     "
   ]
  },
  {
   "cell_type": "code",
   "execution_count": 55,
   "metadata": {},
   "outputs": [
    {
     "name": "stdout",
     "output_type": "stream",
     "text": [
      "tensor([80,  1,  1, 28, 39, 42, 39, 44, 32, 49,  1, 25, 38, 28,  1, 44, 32, 29,\n",
      "         1, 47, 33, 50, 25, 42, 28,  1, 33, 38,  1, 39, 50,  0,  0,  1,  1, 26,\n",
      "        49,  0,  0,  1,  1, 36, 11,  1, 30, 42, 25, 38, 35,  1, 26, 25, 45, 37,\n",
      "         0,  0,  1,  1, 25, 45, 44, 32, 39, 42,  1, 39, 30,  1, 44, 32, 29,  1,\n",
      "        47, 33, 50, 25, 42, 28,  1, 39, 30,  1, 39, 50,  9,  1, 44, 32, 29,  1,\n",
      "        36, 25, 38, 28,  1, 39, 30,  1, 39, 50])\n"
     ]
    }
   ],
   "source": [
    "string_to_int = { ch: i for i,ch in enumerate(chars)}\n",
    "int_to_string = { i:ch for i,ch in enumerate(chars)}\n",
    "encode = lambda s: [string_to_int[c] for c in s]\n",
    "decode = lambda l: ''.join([int_to_string[i] for i in l])\n",
    "\n",
    "# print(encode('nice to meet you'))\n",
    "# print(decode([67, 62, 56, 58, 1, 73, 68, 1, 66, 58, 58, 73, 1, 78, 68, 74]))\n",
    "#['n', 'i', 'c', 'e', ' ', 't', 'o', ' ', 'm', 'e', 'e', 't', ' ', 'y', 'o', 'u']\n",
    "data = torch.tensor(encode(text),dtype=torch.long)\n",
    "print(data[:100])"
   ]
  },
  {
   "cell_type": "markdown",
   "metadata": {},
   "source": [
    "这里使用的是字符级的分词器,因此它可能会有40,000个标记,如果使用单词级的分词器,可能会有多国语言,那么可能会有几百万,几十亿甚至,万亿级的标记"
   ]
  },
  {
   "cell_type": "markdown",
   "metadata": {},
   "source": [
    "# 训练集与验证集\n",
    "使用80%的文本集进行训练,然后用20%的文本集进行验证,主要原因是,如果使用的100%的文本集全部用于去训练,那么模型只是单纯地记住了全部的文本,并不能让我们去验证训练的效果"
   ]
  },
  {
   "cell_type": "code",
   "execution_count": 56,
   "metadata": {},
   "outputs": [
    {
     "name": "stdout",
     "output_type": "stream",
     "text": [
      "inputs: \n",
      " tensor([[58, 62, 60, 61, 73, 10, 72, 62],\n",
      "        [72, 73, 54, 67, 73, 65, 78,  1],\n",
      "        [67, 57,  1, 73, 61, 58,  1, 76],\n",
      "        [ 1, 54,  1, 55, 68, 76,  1, 73]], device='mps:0')\n",
      "targets: \n",
      " tensor([[62, 60, 61, 73, 10, 72, 62, 57],\n",
      "        [73, 54, 67, 73, 65, 78,  1, 61],\n",
      "        [57,  1, 73, 61, 58,  1, 76, 68],\n",
      "        [54,  1, 55, 68, 76,  1, 73, 68]], device='mps:0')\n"
     ]
    }
   ],
   "source": [
    "n = int(0.8 * len(data))\n",
    "train_data = data[:n]\n",
    "val_data = data[n:]\n",
    "\n",
    "\n",
    "def get_batch(split):\n",
    "    data = train_data if split == \"train\" else val_data\n",
    "    ix = torch.randint(len(data) - block_size, (batch_size,))\n",
    "    # print(ix)\n",
    "    x = torch.stack([data[i : i + block_size] for i in ix])\n",
    "    y = torch.stack([data[i + 1 : i + block_size + 1] for i in ix])\n",
    "    x, y = x.to(device), y.to(device)\n",
    "    return x, y\n",
    "\n",
    "\n",
    "x, y = get_batch(\"train\")\n",
    "print(\"inputs: \\n\", x)\n",
    "print(\"targets: \\n\", y)"
   ]
  },
  {
   "cell_type": "code",
   "execution_count": 65,
   "metadata": {},
   "outputs": [],
   "source": [
    "class BigramLM(nn.Module):\n",
    "    def __init__(self, vocab_size):\n",
    "        super().__init__()\n",
    "        self.token_embedding_table = nn.Embedding(vocab_size, vocab_size)\n",
    "\n",
    "    def forward(self, index, target=None):\n",
    "        logits = self.token_embedding_table(index) # 比如字符 “z” 可以映射成向量 [-1.05, 0.24, -0.46]\n",
    "        if target is None:\n",
    "            loss = None\n",
    "        else:\n",
    "            B, T, C = logits.shape\n",
    "            logits = logits.view(B * T, C) # \n",
    "            target = target.view(B * T)\n",
    "            loss = F.cross_entropy(logits, target) # 它的作用是衡量模型的预测值和真实标签之间的差异。\n",
    "        return logits, loss\n",
    "\n",
    "    def generate(self, index, max_new_tokens):\n",
    "        for _ in range(max_new_tokens):\n",
    "            logits, loss = self.forward(index)\n",
    "            logits = logits[:, -1, :] \n",
    "            probs = F.softmax(logits, dim=-1)\n",
    "            index_next = torch.multinomial(probs, num_samples=1)\n",
    "            index = torch.cat((index, index_next), dim=1)  # (B, T +1)\n",
    "        return index\n",
    "\n",
    "\n",
    "model = BigramLM(vocab_size).to(device=device)"
   ]
  },
  {
   "cell_type": "code",
   "execution_count": 66,
   "metadata": {},
   "outputs": [],
   "source": [
    "@torch.no_grad()\n",
    "def estimate_loss():\n",
    "    out = {}\n",
    "    model.eval()\n",
    "    for split in ['train','val']:\n",
    "        losses = torch.zeros(eval_iters)\n",
    "        for k in range(eval_iters):\n",
    "            X,Y = get_batch(split)\n",
    "            logits,loss = model(X,Y)\n",
    "            losses[k] = loss.item()\n",
    "        out[split] = losses.mean()\n",
    "    model.train()\n",
    "    return out"
   ]
  },
  {
   "cell_type": "code",
   "execution_count": 67,
   "metadata": {},
   "outputs": [
    {
     "name": "stdout",
     "output_type": "stream",
     "text": [
      "step:0,train loss: 4.7596,val loss : 4.7505\n",
      "step:250,train loss: 4.7124,val loss : 4.6623\n",
      "step:500,train loss: 4.6497,val loss : 4.6276\n",
      "step:750,train loss: 4.5822,val loss : 4.5739\n",
      "step:1000,train loss: 4.5435,val loss : 4.5194\n",
      "step:1250,train loss: 4.4836,val loss : 4.4454\n",
      "step:1500,train loss: 4.4394,val loss : 4.3899\n",
      "step:1750,train loss: 4.3948,val loss : 4.3582\n",
      "step:2000,train loss: 4.3293,val loss : 4.2995\n",
      "step:2250,train loss: 4.2806,val loss : 4.2489\n",
      "step:2500,train loss: 4.2390,val loss : 4.1981\n",
      "step:2750,train loss: 4.1852,val loss : 4.1565\n",
      "step:3000,train loss: 4.1340,val loss : 4.1215\n",
      "step:3250,train loss: 4.0889,val loss : 4.0566\n",
      "step:3500,train loss: 4.0337,val loss : 4.0349\n",
      "step:3750,train loss: 3.9977,val loss : 3.9852\n",
      "step:4000,train loss: 3.9506,val loss : 3.9670\n",
      "step:4250,train loss: 3.9179,val loss : 3.9127\n",
      "step:4500,train loss: 3.8657,val loss : 3.8650\n",
      "step:4750,train loss: 3.8389,val loss : 3.8230\n",
      "step:5000,train loss: 3.8014,val loss : 3.7721\n",
      "step:5250,train loss: 3.7749,val loss : 3.7416\n",
      "step:5500,train loss: 3.7195,val loss : 3.7005\n",
      "step:5750,train loss: 3.6853,val loss : 3.6730\n",
      "step:6000,train loss: 3.6324,val loss : 3.6273\n",
      "step:6250,train loss: 3.6156,val loss : 3.6061\n",
      "step:6500,train loss: 3.5640,val loss : 3.5571\n",
      "step:6750,train loss: 3.5372,val loss : 3.5267\n",
      "step:7000,train loss: 3.5115,val loss : 3.5047\n",
      "step:7250,train loss: 3.4803,val loss : 3.4681\n",
      "step:7500,train loss: 3.4474,val loss : 3.4182\n",
      "step:7750,train loss: 3.4001,val loss : 3.4156\n",
      "step:8000,train loss: 3.3917,val loss : 3.3894\n",
      "step:8250,train loss: 3.3441,val loss : 3.3559\n",
      "step:8500,train loss: 3.3035,val loss : 3.3357\n",
      "step:8750,train loss: 3.3102,val loss : 3.2821\n",
      "step:9000,train loss: 3.2732,val loss : 3.2526\n",
      "step:9250,train loss: 3.2516,val loss : 3.2325\n",
      "step:9500,train loss: 3.2071,val loss : 3.2430\n",
      "step:9750,train loss: 3.2193,val loss : 3.1871\n",
      "3.5203781127929688\n"
     ]
    }
   ],
   "source": [
    "optimizer = torch.optim.Adam(model.parameters(), lr=learning_rate)\n",
    "\n",
    "for iter in range(max_iters):\n",
    "    if iter % eval_iters == 0:\n",
    "        losses = estimate_loss()\n",
    "        print(f\"step:{iter},train loss: {losses['train']:.4f},val loss : {losses['val']:.4f}\")\n",
    "    xb, yb = get_batch(\"train\")\n",
    "\n",
    "    # evaluate the loss\n",
    "    logits, loss = model.forward(xb, yb)\n",
    "    \n",
    "    optimizer.zero_grad(set_to_none=True)\n",
    "    loss.backward()\n",
    "    optimizer.step()\n",
    "print(loss.item())"
   ]
  },
  {
   "cell_type": "code",
   "execution_count": 68,
   "metadata": {},
   "outputs": [
    {
     "name": "stdout",
     "output_type": "stream",
     "text": [
      "\n",
      "i:RF;9Y\"B*tovw*Che He s'UbO,*bfimpL5kbZvL7H﻿kI jkgarunha\n",
      "cava1J1Iff glin!AQQjhe sy,laY3Mu5*4vwh-R_0_:?Cd.3L5(q5v*W48M[F5A5teA\"il d t ipyBIZ'ngous JG﻿msku&s'RN2.m,\"evenbvNSMre u,0r:\"VIO[PA﻿KhyByoLher  2NjFv.or1j\n",
      "p d(tf?8'3,[\"m!0(b0o ngKt twUM5,;9I\n",
      "mswad]rn h,qRNJ1I[BN0&FAALxBAUq_NDOM6SkjiddN2Yckr wac3d-\"m;JK47lFdNchtewhy\n",
      "\n",
      "oteyv'P30F,' ies:\"9j:&Qyw,Lhyy2'-jJy s.Ode7N0Dch2QOX n:P[S wLJj:M?1at,'ma?Shommpo'r55vTximbarvWLQOFimop8wQ6no;\"r4stuniGnt NN'u.y9N2\"W__stt5CF_V\"Uw, w\n",
      "rwd_dvum8[Q1DA, tdrd,are wq\n"
     ]
    }
   ],
   "source": [
    "context = torch.zeros((1, 1), dtype=torch.long, device=device)\n",
    "generated_chars = decode(model.generate(context, max_new_tokens=500)[0].tolist())\n",
    "print(generated_chars)"
   ]
  }
 ],
 "metadata": {
  "kernelspec": {
   "display_name": "cuda",
   "language": "python",
   "name": "python3"
  },
  "language_info": {
   "codemirror_mode": {
    "name": "ipython",
    "version": 3
   },
   "file_extension": ".py",
   "mimetype": "text/x-python",
   "name": "python",
   "nbconvert_exporter": "python",
   "pygments_lexer": "ipython3",
   "version": "3.8.8"
  }
 },
 "nbformat": 4,
 "nbformat_minor": 2
}
